{
 "cells": [
  {
   "cell_type": "code",
   "execution_count": 2,
   "metadata": {},
   "outputs": [],
   "source": [
    "import numpy as np\n",
    "import matplotlib.pyplot as plt"
   ]
  },
  {
   "cell_type": "code",
   "execution_count": 3,
   "metadata": {},
   "outputs": [],
   "source": [
    "#Enter the data into lists\n",
    "refl = np.array([.045,.023, .025, .021, .015, .013, .034])\n",
    "back = np.array([.012, .013, .013, .014, .011, .012, .011])\n",
    "input = 0.5\n",
    "\n",
    "r_p = (refl - back)/input\n",
    "\n",
    "theta_data = np.array([10,20,30,40,50,60,70])\n",
    "theta_0 = 0\n",
    "theta = (theta_data - theta_0)/180*np.pi\n"
   ]
  },
  {
   "cell_type": "code",
   "execution_count": 4,
   "metadata": {},
   "outputs": [
    {
     "name": "stderr",
     "output_type": "stream",
     "text": [
      "/opt/conda/envs/viz/lib/python3.6/site-packages/ipykernel_launcher.py:14: RuntimeWarning: invalid value encountered in true_divide\n",
      "  \n"
     ]
    },
    {
     "data": {
      "image/png": "[encoded data removed]",
      "text/plain": [
       "<Figure size 432x288 with 1 Axes>"
      ]
     },
     "metadata": {
      "needs_background": "light"
     },
     "output_type": "display_data"
    }
   ],
   "source": [
    "#Set parameters for theoretical curve\n",
    "\n",
    "n1 = 1\n",
    "n2 =1.54\n",
    "\n",
    "#axis range - adjust if needed\n",
    "theta1 = np.arange(0,np.pi/2,.02)\n",
    "\n",
    "#snell's law give theta2\n",
    "theta2 = np.arcsin(n1/n2*np.sin(theta1))\n",
    "\n",
    "#calculate fresnel coefficient\n",
    "\n",
    "theory = (np.tan(theta2-theta1)/np.tan(theta2+theta1))**2\n",
    "    \n",
    "#plot theory and data\n",
    "plt.plot(theta1,theory,'r',theta,r_p,'bo')\n",
    "plt.xlabel('incident angle - rad')\n",
    "plt.ylabel('Reflectance - P-polarized')\n",
    "\n",
    "plt.show()"
   ]
  }
 ],
 "metadata": {
  "kernelspec": {
   "display_name": "Python 3",
   "language": "python",
   "name": "python3"
  },
  "language_info": {
   "codemirror_mode": {
    "name": "ipython",
    "version": 3
   },
   "file_extension": ".py",
   "mimetype": "text/x-python",
   "name": "python",
   "nbconvert_exporter": "python",
   "pygments_lexer": "ipython3",
   "version": "3.6.7"
  }
 },
 "nbformat": 4,
 "nbformat_minor": 2
}
