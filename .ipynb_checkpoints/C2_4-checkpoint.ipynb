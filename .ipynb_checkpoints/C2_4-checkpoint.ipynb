{
 "cells": [
  {
   "cell_type": "code",
   "execution_count": null,
   "metadata": {},
   "outputs": [],
   "source": [
    "import numpy as np\n",
    "import matplotlib.pyplot as plt\n"
   ]
  },
  {
   "cell_type": "code",
   "execution_count": null,
   "metadata": {},
   "outputs": [],
   "source": [
    "#Start with just one resonant frequency\n",
    "#Set parameters\n",
    "\n",
    "omega_p = 1\n",
    "omega_0 =10\n",
    "\n",
    "#axis range - adjust if needed\n",
    "omega = np.arange(0.,30,0.1)\n",
    "\n",
    "#calculate real and imaginary parts, then put together as n and kappa\n",
    "real_omega = omega_p**2*(omega_0**2-omega**2)/(...)\n",
    "imag_omega = ...\n",
    "    \n",
    "n = np.sqrt(...)\n",
    "kappa = ...\n",
    "    \n",
    "#plot them\n",
    "plt.plot(omega,n,'b',omega,kappa,'r')\n",
    "plt.show()"
   ]
  },
  {
   "cell_type": "code",
   "execution_count": null,
   "metadata": {},
   "outputs": [],
   "source": [
    "#Start with just one resonant frequency\n",
    "#Set parameters\n",
    "\n",
    "omega_p = 1\n",
    "omega_0 =10\n",
    "\n",
    "#axis range - adjust if needed\n",
    "omega = np.arange(0,30,.1)\n",
    "\n",
    "#calculate real and imaginary parts, then put together as n and kappa\n",
    "\n",
    "real_omega = omega_p**2*(omega_0**2-omega**2)/((omega_0**2-omega**2)**2+omega**2)\n",
    "imag_omega = omega_p**2*omega/((omega_0**2-omega**2)**2+omega**2)\n",
    "    \n",
    "n = np.sqrt((1+real_omega+np.sqrt((1+real_omega)**2+imag_omega**2))/2)\n",
    "kappa = imag_omega/2/n\n",
    "    \n",
    "#plot them\n",
    "plt.plot(omega,n,'b',omega,kappa,'r')\n",
    "plt.show()"
   ]
  },
  {
   "cell_type": "code",
   "execution_count": null,
   "metadata": {},
   "outputs": [],
   "source": [
    "#Set parameters\n",
    "#Now there are matching-length arrays of parameters - one for each omega_0\n",
    "fs = [0.5,0.25,0.25]\n",
    "omega_ps = [1,1,3]\n",
    "omega_0s = [10.,15.,25.]\n",
    "\n",
    "#axis range - adjust if needed, based on omega_0s\n",
    "omega = np.arange(0,30,.1)\n",
    "real_omega = np.zeros_like(omega)\n",
    "imag_omega = np.zeros_like(omega)\n",
    "\n",
    "#calculate real and imaginary parts for each omega_0 and sum over them\n",
    "\n",
    "for i,omega_0 in enumerate(omega_0s):\n",
    "    f=fs[i]\n",
    "    omega_p = omega_ps[i]\n",
    "    real_omega = real_omega + f*omega_p**2*(omega_0**2-omega**2)/((omega_0**2-omega**2)**2+omega**2)\n",
    "    imag_omega = imag_omega + f*omega_p**2*omega/((omega_0**2-omega**2)**2+omega**2)\n",
    "\n",
    "#calculate n and kappa \n",
    "n = np.sqrt((1+real_omega+np.sqrt((1+real_omega)**2+imag_omega**2))/2)\n",
    "kappa = imag_omega/2/n\n",
    "    \n",
    "#plot them\n",
    "plt.plot(omega,n,'b',omega,kappa,'r')\n",
    "plt.show()"
   ]
  }
 ],
 "metadata": {
  "kernelspec": {
   "display_name": "Python 3",
   "language": "python",
   "name": "python3"
  },
  "language_info": {
   "codemirror_mode": {
    "name": "ipython",
    "version": 3
   },
   "file_extension": ".py",
   "mimetype": "text/x-python",
   "name": "python",
   "nbconvert_exporter": "python",
   "pygments_lexer": "ipython3",
   "version": "3.6.7"
  }
 },
 "nbformat": 4,
 "nbformat_minor": 2
}
